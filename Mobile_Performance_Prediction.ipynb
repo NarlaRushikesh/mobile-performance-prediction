{
 "cells": [
  {
   "cell_type": "markdown",
   "id": "bea34f53-54d3-48d0-847d-9ba6d268c811",
   "metadata": {},
   "source": [
    "# 📱 Mobile Performance Prediction using Machine Learning\n",
    "\n",
    "## Introduction\n",
    "Smartphones today vary widely in performance due to differences in hardware specifications such as CPU, GPU, RAM, and more. Benchmark scores offer a standardized way to evaluate overall device performance, but not all devices have readily available benchmark data.\n",
    "\n",
    "This project aims to predict the **Total Benchmark Score** of a mobile phone based on its hardware specifications using machine learning techniques.\n",
    "\n",
    "We'll go through data cleaning, preprocessing, modeling, and evaluation to build a predictive system.\n"
   ]
  },
  {
   "cell_type": "markdown",
   "id": "c22043e1-4dd5-4fd0-9a3b-80ed604fd1f4",
   "metadata": {},
   "source": [
    "## Problem Statement\n",
    "\n",
    "Given a dataset containing smartphone specifications (such as RAM, storage, chipset, GPU, CPU scores, etc.), the objective is to build a **regression model** that can accurately predict the **Total Benchmark Score** of a phone.\n",
    "\n",
    "This can be useful for:\n",
    "- Estimating performance of unreleased devices.\n",
    "- Comparing phones based on predicted performance.\n",
    "- Filling missing benchmark scores in datasets.\n",
    "\n"
   ]
  },
  {
   "cell_type": "code",
   "execution_count": 1,
   "id": "c5192fd9-ada5-4414-ba53-d00a3a66dd43",
   "metadata": {},
   "outputs": [],
   "source": [
    "import numpy as np\n",
    "import pandas as pd\n",
    "import matplotlib.pyplot as plt\n",
    "import seaborn as sns"
   ]
  },
  {
   "cell_type": "code",
   "execution_count": 4,
   "id": "8b2a2a93-e77f-4016-ad55-c996350e4895",
   "metadata": {},
   "outputs": [],
   "source": [
    "df = pd.read_csv('mobile_dataset.csv')"
   ]
  },
  {
   "cell_type": "code",
   "execution_count": 5,
   "id": "ffd16fe2-13d2-4d8c-9a1b-4e4a5953e40e",
   "metadata": {},
   "outputs": [
    {
     "data": {
      "text/html": [
       "<div>\n",
       "<style scoped>\n",
       "    .dataframe tbody tr th:only-of-type {\n",
       "        vertical-align: middle;\n",
       "    }\n",
       "\n",
       "    .dataframe tbody tr th {\n",
       "        vertical-align: top;\n",
       "    }\n",
       "\n",
       "    .dataframe thead th {\n",
       "        text-align: right;\n",
       "    }\n",
       "</style>\n",
       "<table border=\"1\" class=\"dataframe\">\n",
       "  <thead>\n",
       "    <tr style=\"text-align: right;\">\n",
       "      <th></th>\n",
       "      <th>Phone Name</th>\n",
       "      <th>Chipset</th>\n",
       "      <th>GPU</th>\n",
       "      <th>RAM (GB)</th>\n",
       "      <th>Storage (GB)</th>\n",
       "      <th>Release Year</th>\n",
       "      <th>CPU Score</th>\n",
       "      <th>GPU Score</th>\n",
       "      <th>MEM Score</th>\n",
       "      <th>UX Score</th>\n",
       "      <th>Total Score</th>\n",
       "    </tr>\n",
       "  </thead>\n",
       "  <tbody>\n",
       "    <tr>\n",
       "      <th>0</th>\n",
       "      <td>iQOO 13</td>\n",
       "      <td>Snapdragon 8 Elite</td>\n",
       "      <td>Adreno 830</td>\n",
       "      <td>16</td>\n",
       "      <td>512</td>\n",
       "      <td>2025</td>\n",
       "      <td>586291</td>\n",
       "      <td>1183870</td>\n",
       "      <td>492574</td>\n",
       "      <td>432974</td>\n",
       "      <td>2695709</td>\n",
       "    </tr>\n",
       "    <tr>\n",
       "      <th>1</th>\n",
       "      <td>Red Magic 10 Pro</td>\n",
       "      <td>Snapdragon 8 Elite</td>\n",
       "      <td>Adreno 830</td>\n",
       "      <td>12</td>\n",
       "      <td>256</td>\n",
       "      <td>2025</td>\n",
       "      <td>593626</td>\n",
       "      <td>1193547</td>\n",
       "      <td>476871</td>\n",
       "      <td>387160</td>\n",
       "      <td>2651204</td>\n",
       "    </tr>\n",
       "    <tr>\n",
       "      <th>2</th>\n",
       "      <td>Mi 15 Ultra</td>\n",
       "      <td>Snapdragon 8 Elite</td>\n",
       "      <td>Adreno 830</td>\n",
       "      <td>16</td>\n",
       "      <td>512</td>\n",
       "      <td>2025</td>\n",
       "      <td>542576</td>\n",
       "      <td>1036853</td>\n",
       "      <td>474641</td>\n",
       "      <td>423893</td>\n",
       "      <td>2477963</td>\n",
       "    </tr>\n",
       "    <tr>\n",
       "      <th>3</th>\n",
       "      <td>vivo X200 Pro</td>\n",
       "      <td>MediaTek Dimensity 9400</td>\n",
       "      <td>Mali-G720</td>\n",
       "      <td>12</td>\n",
       "      <td>256</td>\n",
       "      <td>2025</td>\n",
       "      <td>580620</td>\n",
       "      <td>1089373</td>\n",
       "      <td>394090</td>\n",
       "      <td>412650</td>\n",
       "      <td>2476733</td>\n",
       "    </tr>\n",
       "    <tr>\n",
       "      <th>4</th>\n",
       "      <td>Mi 15</td>\n",
       "      <td>Snapdragon 8 Elite</td>\n",
       "      <td>Adreno 830</td>\n",
       "      <td>12</td>\n",
       "      <td>512</td>\n",
       "      <td>2025</td>\n",
       "      <td>550938</td>\n",
       "      <td>1038053</td>\n",
       "      <td>446477</td>\n",
       "      <td>359902</td>\n",
       "      <td>2395370</td>\n",
       "    </tr>\n",
       "  </tbody>\n",
       "</table>\n",
       "</div>"
      ],
      "text/plain": [
       "         Phone Name                  Chipset         GPU  RAM (GB)  \\\n",
       "0           iQOO 13       Snapdragon 8 Elite  Adreno 830        16   \n",
       "1  Red Magic 10 Pro       Snapdragon 8 Elite  Adreno 830        12   \n",
       "2       Mi 15 Ultra       Snapdragon 8 Elite  Adreno 830        16   \n",
       "3     vivo X200 Pro  MediaTek Dimensity 9400   Mali-G720        12   \n",
       "4             Mi 15       Snapdragon 8 Elite  Adreno 830        12   \n",
       "\n",
       "   Storage (GB)  Release Year  CPU Score  GPU Score  MEM Score  UX Score  \\\n",
       "0           512          2025     586291    1183870     492574    432974   \n",
       "1           256          2025     593626    1193547     476871    387160   \n",
       "2           512          2025     542576    1036853     474641    423893   \n",
       "3           256          2025     580620    1089373     394090    412650   \n",
       "4           512          2025     550938    1038053     446477    359902   \n",
       "\n",
       "   Total Score  \n",
       "0      2695709  \n",
       "1      2651204  \n",
       "2      2477963  \n",
       "3      2476733  \n",
       "4      2395370  "
      ]
     },
     "execution_count": 5,
     "metadata": {},
     "output_type": "execute_result"
    }
   ],
   "source": [
    "df.head()"
   ]
  },
  {
   "cell_type": "code",
   "execution_count": 6,
   "id": "d0cde30a-9dbe-45ab-aee3-99bceff35e61",
   "metadata": {},
   "outputs": [
    {
     "data": {
      "text/html": [
       "<div>\n",
       "<style scoped>\n",
       "    .dataframe tbody tr th:only-of-type {\n",
       "        vertical-align: middle;\n",
       "    }\n",
       "\n",
       "    .dataframe tbody tr th {\n",
       "        vertical-align: top;\n",
       "    }\n",
       "\n",
       "    .dataframe thead th {\n",
       "        text-align: right;\n",
       "    }\n",
       "</style>\n",
       "<table border=\"1\" class=\"dataframe\">\n",
       "  <thead>\n",
       "    <tr style=\"text-align: right;\">\n",
       "      <th></th>\n",
       "      <th>RAM (GB)</th>\n",
       "      <th>Storage (GB)</th>\n",
       "      <th>Release Year</th>\n",
       "      <th>CPU Score</th>\n",
       "      <th>GPU Score</th>\n",
       "      <th>MEM Score</th>\n",
       "      <th>UX Score</th>\n",
       "      <th>Total Score</th>\n",
       "    </tr>\n",
       "  </thead>\n",
       "  <tbody>\n",
       "    <tr>\n",
       "      <th>count</th>\n",
       "      <td>658.000000</td>\n",
       "      <td>658.000000</td>\n",
       "      <td>658.000000</td>\n",
       "      <td>658.000000</td>\n",
       "      <td>6.580000e+02</td>\n",
       "      <td>658.000000</td>\n",
       "      <td>658.000000</td>\n",
       "      <td>6.580000e+02</td>\n",
       "    </tr>\n",
       "    <tr>\n",
       "      <th>mean</th>\n",
       "      <td>9.937690</td>\n",
       "      <td>259.744681</td>\n",
       "      <td>2022.512158</td>\n",
       "      <td>501342.401216</td>\n",
       "      <td>8.540142e+05</td>\n",
       "      <td>468746.480243</td>\n",
       "      <td>466375.542553</td>\n",
       "      <td>2.447204e+06</td>\n",
       "    </tr>\n",
       "    <tr>\n",
       "      <th>std</th>\n",
       "      <td>3.698789</td>\n",
       "      <td>165.577028</td>\n",
       "      <td>2.296978</td>\n",
       "      <td>122370.068334</td>\n",
       "      <td>1.753199e+05</td>\n",
       "      <td>103188.977277</td>\n",
       "      <td>153831.969575</td>\n",
       "      <td>4.405930e+05</td>\n",
       "    </tr>\n",
       "    <tr>\n",
       "      <th>min</th>\n",
       "      <td>2.000000</td>\n",
       "      <td>32.000000</td>\n",
       "      <td>2018.000000</td>\n",
       "      <td>190000.000000</td>\n",
       "      <td>3.500000e+05</td>\n",
       "      <td>160000.000000</td>\n",
       "      <td>234651.000000</td>\n",
       "      <td>1.476494e+06</td>\n",
       "    </tr>\n",
       "    <tr>\n",
       "      <th>25%</th>\n",
       "      <td>8.000000</td>\n",
       "      <td>128.000000</td>\n",
       "      <td>2020.000000</td>\n",
       "      <td>424246.750000</td>\n",
       "      <td>7.400000e+05</td>\n",
       "      <td>412440.500000</td>\n",
       "      <td>346033.000000</td>\n",
       "      <td>2.113916e+06</td>\n",
       "    </tr>\n",
       "    <tr>\n",
       "      <th>50%</th>\n",
       "      <td>12.000000</td>\n",
       "      <td>256.000000</td>\n",
       "      <td>2021.000000</td>\n",
       "      <td>482959.000000</td>\n",
       "      <td>8.650000e+05</td>\n",
       "      <td>460000.000000</td>\n",
       "      <td>380232.500000</td>\n",
       "      <td>2.342677e+06</td>\n",
       "    </tr>\n",
       "    <tr>\n",
       "      <th>75%</th>\n",
       "      <td>12.000000</td>\n",
       "      <td>512.000000</td>\n",
       "      <td>2025.000000</td>\n",
       "      <td>570000.000000</td>\n",
       "      <td>1.012084e+06</td>\n",
       "      <td>500000.000000</td>\n",
       "      <td>635000.000000</td>\n",
       "      <td>2.854174e+06</td>\n",
       "    </tr>\n",
       "    <tr>\n",
       "      <th>max</th>\n",
       "      <td>24.000000</td>\n",
       "      <td>512.000000</td>\n",
       "      <td>2025.000000</td>\n",
       "      <td>820000.000000</td>\n",
       "      <td>1.193547e+06</td>\n",
       "      <td>760000.000000</td>\n",
       "      <td>784012.000000</td>\n",
       "      <td>3.323500e+06</td>\n",
       "    </tr>\n",
       "  </tbody>\n",
       "</table>\n",
       "</div>"
      ],
      "text/plain": [
       "         RAM (GB)  Storage (GB)  Release Year      CPU Score     GPU Score  \\\n",
       "count  658.000000    658.000000    658.000000     658.000000  6.580000e+02   \n",
       "mean     9.937690    259.744681   2022.512158  501342.401216  8.540142e+05   \n",
       "std      3.698789    165.577028      2.296978  122370.068334  1.753199e+05   \n",
       "min      2.000000     32.000000   2018.000000  190000.000000  3.500000e+05   \n",
       "25%      8.000000    128.000000   2020.000000  424246.750000  7.400000e+05   \n",
       "50%     12.000000    256.000000   2021.000000  482959.000000  8.650000e+05   \n",
       "75%     12.000000    512.000000   2025.000000  570000.000000  1.012084e+06   \n",
       "max     24.000000    512.000000   2025.000000  820000.000000  1.193547e+06   \n",
       "\n",
       "           MEM Score       UX Score   Total Score  \n",
       "count     658.000000     658.000000  6.580000e+02  \n",
       "mean   468746.480243  466375.542553  2.447204e+06  \n",
       "std    103188.977277  153831.969575  4.405930e+05  \n",
       "min    160000.000000  234651.000000  1.476494e+06  \n",
       "25%    412440.500000  346033.000000  2.113916e+06  \n",
       "50%    460000.000000  380232.500000  2.342677e+06  \n",
       "75%    500000.000000  635000.000000  2.854174e+06  \n",
       "max    760000.000000  784012.000000  3.323500e+06  "
      ]
     },
     "execution_count": 6,
     "metadata": {},
     "output_type": "execute_result"
    }
   ],
   "source": [
    "df.describe()"
   ]
  },
  {
   "cell_type": "code",
   "execution_count": 7,
   "id": "48f124d6-beae-4b1a-adfb-03a1ce7836b1",
   "metadata": {},
   "outputs": [
    {
     "name": "stdout",
     "output_type": "stream",
     "text": [
      "<class 'pandas.core.frame.DataFrame'>\n",
      "RangeIndex: 658 entries, 0 to 657\n",
      "Data columns (total 11 columns):\n",
      " #   Column        Non-Null Count  Dtype \n",
      "---  ------        --------------  ----- \n",
      " 0   Phone Name    658 non-null    object\n",
      " 1   Chipset       658 non-null    object\n",
      " 2   GPU           658 non-null    object\n",
      " 3   RAM (GB)      658 non-null    int64 \n",
      " 4   Storage (GB)  658 non-null    int64 \n",
      " 5   Release Year  658 non-null    int64 \n",
      " 6   CPU Score     658 non-null    int64 \n",
      " 7   GPU Score     658 non-null    int64 \n",
      " 8   MEM Score     658 non-null    int64 \n",
      " 9   UX Score      658 non-null    int64 \n",
      " 10  Total Score   658 non-null    int64 \n",
      "dtypes: int64(8), object(3)\n",
      "memory usage: 56.7+ KB\n"
     ]
    }
   ],
   "source": [
    "df.info()"
   ]
  },
  {
   "cell_type": "code",
   "execution_count": 10,
   "id": "f9b550ac-9258-40e7-a0c8-c3550a76c325",
   "metadata": {},
   "outputs": [
    {
     "data": {
      "text/plain": [
       "(658, 11)"
      ]
     },
     "execution_count": 10,
     "metadata": {},
     "output_type": "execute_result"
    }
   ],
   "source": [
    "df.shape"
   ]
  },
  {
   "cell_type": "markdown",
   "id": "8a2eae9b-cf65-45c8-bd63-e869e8e571c8",
   "metadata": {},
   "source": [
    "## Dataset Overview\n",
    "\n",
    "The dataset used contains various smartphone hardware features and a target variable called **Total Score** which represents the overall benchmark result.\n",
    "\n",
    "### Feature Description:\n",
    "| Feature        | Description |\n",
    "|----------------|-------------|\n",
    "| Phone Name     | Name of the phone model |\n",
    "| RAM (GB)       | RAM size in gigabytes |\n",
    "| Storage (GB)   | Internal storage capacity |\n",
    "| Chipset        | SoC (System on Chip) used |\n",
    "| GPU            | Graphics Processing Unit |\n",
    "| CPU Score      | Performance score of the CPU |\n",
    "| GPU Score      | Performance score of the GPU |\n",
    "| MEM Score      | Memory performance score |\n",
    "| UX Score       | User Experience score |\n",
    "| Total Score    | 🏁 Target variable - overall benchmark score |\n"
   ]
  },
  {
   "cell_type": "markdown",
   "id": "468e432d-3680-44a5-a815-807be19ef886",
   "metadata": {},
   "source": [
    "## Data Cleaning\n"
   ]
  },
  {
   "cell_type": "markdown",
   "id": "737191cf-7bc2-4235-a260-4f9a194bd3e7",
   "metadata": {},
   "source": [
    "### Handle Missing Values"
   ]
  },
  {
   "cell_type": "code",
   "execution_count": 12,
   "id": "d8cfde80-3728-4d05-ae0f-c310f12d2be2",
   "metadata": {},
   "outputs": [
    {
     "name": "stdout",
     "output_type": "stream",
     "text": [
      "Phone Name      0\n",
      "Chipset         0\n",
      "GPU             0\n",
      "RAM (GB)        0\n",
      "Storage (GB)    0\n",
      "Release Year    0\n",
      "CPU Score       0\n",
      "GPU Score       0\n",
      "MEM Score       0\n",
      "UX Score        0\n",
      "Total Score     0\n",
      "dtype: int64\n"
     ]
    }
   ],
   "source": [
    "missing_values = df.isnull().sum()\n",
    "print(missing_values)"
   ]
  },
  {
   "cell_type": "markdown",
   "id": "5714da6d-a473-4cb6-823e-f1cd7ad26cbd",
   "metadata": {},
   "source": [
    "### Data Cleaning"
   ]
  },
  {
   "cell_type": "code",
   "execution_count": 14,
   "id": "5689e82f-30ef-4fe2-b367-e9bb7e74f77a",
   "metadata": {},
   "outputs": [
    {
     "name": "stdout",
     "output_type": "stream",
     "text": [
      "5\n"
     ]
    }
   ],
   "source": [
    "duplicates = df.duplicated().sum()\n",
    "print(duplicates)"
   ]
  },
  {
   "cell_type": "code",
   "execution_count": 15,
   "id": "c5779107-f196-4aea-a717-a2d1616a0026",
   "metadata": {},
   "outputs": [],
   "source": [
    "df.drop_duplicates(inplace=True)"
   ]
  },
  {
   "cell_type": "code",
   "execution_count": 16,
   "id": "44d0c8e7-5fca-4062-8baf-0be52b6b964f",
   "metadata": {},
   "outputs": [
    {
     "name": "stdout",
     "output_type": "stream",
     "text": [
      "0\n"
     ]
    }
   ],
   "source": [
    "duplicates = df.duplicated().sum()\n",
    "print(duplicates)"
   ]
  },
  {
   "cell_type": "code",
   "execution_count": 17,
   "id": "81bac1e6-5a46-4b20-ab84-133a83ecf2d9",
   "metadata": {},
   "outputs": [
    {
     "name": "stdout",
     "output_type": "stream",
     "text": [
      "Phone Name      object\n",
      "Chipset         object\n",
      "GPU             object\n",
      "RAM (GB)         int64\n",
      "Storage (GB)     int64\n",
      "Release Year     int64\n",
      "CPU Score        int64\n",
      "GPU Score        int64\n",
      "MEM Score        int64\n",
      "UX Score         int64\n",
      "Total Score      int64\n",
      "dtype: object\n"
     ]
    }
   ],
   "source": [
    "print(df.dtypes)"
   ]
  },
  {
   "cell_type": "markdown",
   "id": "bfc7f1ad-c520-4192-9308-be1be791ac8f",
   "metadata": {},
   "source": [
    "# Data Preprocessing"
   ]
  },
  {
   "cell_type": "markdown",
   "id": "109eaa46-8e39-41c4-ab41-c154ffb51bac",
   "metadata": {},
   "source": [
    "## Label Encoding (for Chipset and GPU) and Standardization"
   ]
  },
  {
   "cell_type": "code",
   "execution_count": 18,
   "id": "6f800e9f-e022-4bdc-bfc0-67272026b334",
   "metadata": {},
   "outputs": [],
   "source": [
    "from sklearn.preprocessing import LabelEncoder, StandardScaler"
   ]
  },
  {
   "cell_type": "code",
   "execution_count": 19,
   "id": "d9ec70e4-33b9-466e-bbe9-0c8b2084f2d7",
   "metadata": {},
   "outputs": [],
   "source": [
    "label_encoder = LabelEncoder()"
   ]
  },
  {
   "cell_type": "code",
   "execution_count": 20,
   "id": "2919c9f6-2811-49d7-a814-b23bb137080b",
   "metadata": {},
   "outputs": [],
   "source": [
    "df['Chipset'] = label_encoder.fit_transform(df['Chipset'])\n",
    "df['GPU'] = label_encoder.fit_transform(df['GPU'])"
   ]
  },
  {
   "cell_type": "code",
   "execution_count": 26,
   "id": "0df19c9a-0281-4a27-ba5e-14ea96e54c6e",
   "metadata": {},
   "outputs": [
    {
     "data": {
      "text/html": [
       "<div>\n",
       "<style scoped>\n",
       "    .dataframe tbody tr th:only-of-type {\n",
       "        vertical-align: middle;\n",
       "    }\n",
       "\n",
       "    .dataframe tbody tr th {\n",
       "        vertical-align: top;\n",
       "    }\n",
       "\n",
       "    .dataframe thead th {\n",
       "        text-align: right;\n",
       "    }\n",
       "</style>\n",
       "<table border=\"1\" class=\"dataframe\">\n",
       "  <thead>\n",
       "    <tr style=\"text-align: right;\">\n",
       "      <th></th>\n",
       "      <th>Phone Name</th>\n",
       "      <th>Chipset</th>\n",
       "      <th>GPU</th>\n",
       "      <th>RAM (GB)</th>\n",
       "      <th>Storage (GB)</th>\n",
       "      <th>Release Year</th>\n",
       "      <th>CPU Score</th>\n",
       "      <th>GPU Score</th>\n",
       "      <th>MEM Score</th>\n",
       "      <th>UX Score</th>\n",
       "      <th>Total Score</th>\n",
       "    </tr>\n",
       "  </thead>\n",
       "  <tbody>\n",
       "    <tr>\n",
       "      <th>0</th>\n",
       "      <td>iQOO 13</td>\n",
       "      <td>86</td>\n",
       "      <td>21</td>\n",
       "      <td>16</td>\n",
       "      <td>512</td>\n",
       "      <td>2025</td>\n",
       "      <td>586291</td>\n",
       "      <td>1183870</td>\n",
       "      <td>492574</td>\n",
       "      <td>432974</td>\n",
       "      <td>2695709</td>\n",
       "    </tr>\n",
       "    <tr>\n",
       "      <th>1</th>\n",
       "      <td>Red Magic 10 Pro</td>\n",
       "      <td>86</td>\n",
       "      <td>21</td>\n",
       "      <td>12</td>\n",
       "      <td>256</td>\n",
       "      <td>2025</td>\n",
       "      <td>593626</td>\n",
       "      <td>1193547</td>\n",
       "      <td>476871</td>\n",
       "      <td>387160</td>\n",
       "      <td>2651204</td>\n",
       "    </tr>\n",
       "    <tr>\n",
       "      <th>2</th>\n",
       "      <td>Mi 15 Ultra</td>\n",
       "      <td>86</td>\n",
       "      <td>21</td>\n",
       "      <td>16</td>\n",
       "      <td>512</td>\n",
       "      <td>2025</td>\n",
       "      <td>542576</td>\n",
       "      <td>1036853</td>\n",
       "      <td>474641</td>\n",
       "      <td>423893</td>\n",
       "      <td>2477963</td>\n",
       "    </tr>\n",
       "    <tr>\n",
       "      <th>3</th>\n",
       "      <td>vivo X200 Pro</td>\n",
       "      <td>40</td>\n",
       "      <td>34</td>\n",
       "      <td>12</td>\n",
       "      <td>256</td>\n",
       "      <td>2025</td>\n",
       "      <td>580620</td>\n",
       "      <td>1089373</td>\n",
       "      <td>394090</td>\n",
       "      <td>412650</td>\n",
       "      <td>2476733</td>\n",
       "    </tr>\n",
       "    <tr>\n",
       "      <th>4</th>\n",
       "      <td>Mi 15</td>\n",
       "      <td>86</td>\n",
       "      <td>21</td>\n",
       "      <td>12</td>\n",
       "      <td>512</td>\n",
       "      <td>2025</td>\n",
       "      <td>550938</td>\n",
       "      <td>1038053</td>\n",
       "      <td>446477</td>\n",
       "      <td>359902</td>\n",
       "      <td>2395370</td>\n",
       "    </tr>\n",
       "  </tbody>\n",
       "</table>\n",
       "</div>"
      ],
      "text/plain": [
       "         Phone Name  Chipset  GPU  RAM (GB)  Storage (GB)  Release Year  \\\n",
       "0           iQOO 13       86   21        16           512          2025   \n",
       "1  Red Magic 10 Pro       86   21        12           256          2025   \n",
       "2       Mi 15 Ultra       86   21        16           512          2025   \n",
       "3     vivo X200 Pro       40   34        12           256          2025   \n",
       "4             Mi 15       86   21        12           512          2025   \n",
       "\n",
       "   CPU Score  GPU Score  MEM Score  UX Score  Total Score  \n",
       "0     586291    1183870     492574    432974      2695709  \n",
       "1     593626    1193547     476871    387160      2651204  \n",
       "2     542576    1036853     474641    423893      2477963  \n",
       "3     580620    1089373     394090    412650      2476733  \n",
       "4     550938    1038053     446477    359902      2395370  "
      ]
     },
     "execution_count": 26,
     "metadata": {},
     "output_type": "execute_result"
    }
   ],
   "source": [
    "df.head()"
   ]
  },
  {
   "cell_type": "code",
   "execution_count": 27,
   "id": "fcaca6d0-586f-4a68-a0ec-f95e82e3ae06",
   "metadata": {},
   "outputs": [],
   "source": [
    "scaler = StandardScaler()"
   ]
  },
  {
   "cell_type": "code",
   "execution_count": 28,
   "id": "a09e2810-130a-4d97-ac22-bde483ddbe83",
   "metadata": {},
   "outputs": [],
   "source": [
    "numerical_columns = ['RAM (GB)', 'Storage (GB)', 'CPU Score', 'GPU Score', 'MEM Score', 'UX Score']"
   ]
  },
  {
   "cell_type": "code",
   "execution_count": 29,
   "id": "29a8301d-9e50-49f5-9e41-ac042ba228df",
   "metadata": {},
   "outputs": [],
   "source": [
    "df[numerical_columns] = scaler.fit_transform(df[numerical_columns])"
   ]
  },
  {
   "cell_type": "code",
   "execution_count": 30,
   "id": "183d8efb-f43a-4731-a1ba-63ca38c19e57",
   "metadata": {},
   "outputs": [
    {
     "data": {
      "text/html": [
       "<div>\n",
       "<style scoped>\n",
       "    .dataframe tbody tr th:only-of-type {\n",
       "        vertical-align: middle;\n",
       "    }\n",
       "\n",
       "    .dataframe tbody tr th {\n",
       "        vertical-align: top;\n",
       "    }\n",
       "\n",
       "    .dataframe thead th {\n",
       "        text-align: right;\n",
       "    }\n",
       "</style>\n",
       "<table border=\"1\" class=\"dataframe\">\n",
       "  <thead>\n",
       "    <tr style=\"text-align: right;\">\n",
       "      <th></th>\n",
       "      <th>Phone Name</th>\n",
       "      <th>Chipset</th>\n",
       "      <th>GPU</th>\n",
       "      <th>RAM (GB)</th>\n",
       "      <th>Storage (GB)</th>\n",
       "      <th>Release Year</th>\n",
       "      <th>CPU Score</th>\n",
       "      <th>GPU Score</th>\n",
       "      <th>MEM Score</th>\n",
       "      <th>UX Score</th>\n",
       "      <th>Total Score</th>\n",
       "    </tr>\n",
       "  </thead>\n",
       "  <tbody>\n",
       "    <tr>\n",
       "      <th>0</th>\n",
       "      <td>iQOO 13</td>\n",
       "      <td>86</td>\n",
       "      <td>21</td>\n",
       "      <td>1.634892</td>\n",
       "      <td>1.517199</td>\n",
       "      <td>2025</td>\n",
       "      <td>0.689647</td>\n",
       "      <td>1.887714</td>\n",
       "      <td>0.228625</td>\n",
       "      <td>-0.222251</td>\n",
       "      <td>2695709</td>\n",
       "    </tr>\n",
       "    <tr>\n",
       "      <th>1</th>\n",
       "      <td>Red Magic 10 Pro</td>\n",
       "      <td>86</td>\n",
       "      <td>21</td>\n",
       "      <td>0.552972</td>\n",
       "      <td>-0.028102</td>\n",
       "      <td>2025</td>\n",
       "      <td>0.749466</td>\n",
       "      <td>1.942950</td>\n",
       "      <td>0.076843</td>\n",
       "      <td>-0.519748</td>\n",
       "      <td>2651204</td>\n",
       "    </tr>\n",
       "    <tr>\n",
       "      <th>2</th>\n",
       "      <td>Mi 15 Ultra</td>\n",
       "      <td>86</td>\n",
       "      <td>21</td>\n",
       "      <td>1.634892</td>\n",
       "      <td>1.517199</td>\n",
       "      <td>2025</td>\n",
       "      <td>0.333135</td>\n",
       "      <td>1.048537</td>\n",
       "      <td>0.055289</td>\n",
       "      <td>-0.281219</td>\n",
       "      <td>2477963</td>\n",
       "    </tr>\n",
       "    <tr>\n",
       "      <th>3</th>\n",
       "      <td>vivo X200 Pro</td>\n",
       "      <td>40</td>\n",
       "      <td>34</td>\n",
       "      <td>0.552972</td>\n",
       "      <td>-0.028102</td>\n",
       "      <td>2025</td>\n",
       "      <td>0.643398</td>\n",
       "      <td>1.348322</td>\n",
       "      <td>-0.723302</td>\n",
       "      <td>-0.354226</td>\n",
       "      <td>2476733</td>\n",
       "    </tr>\n",
       "    <tr>\n",
       "      <th>4</th>\n",
       "      <td>Mi 15</td>\n",
       "      <td>86</td>\n",
       "      <td>21</td>\n",
       "      <td>0.552972</td>\n",
       "      <td>1.517199</td>\n",
       "      <td>2025</td>\n",
       "      <td>0.401330</td>\n",
       "      <td>1.055387</td>\n",
       "      <td>-0.216939</td>\n",
       "      <td>-0.696750</td>\n",
       "      <td>2395370</td>\n",
       "    </tr>\n",
       "  </tbody>\n",
       "</table>\n",
       "</div>"
      ],
      "text/plain": [
       "         Phone Name  Chipset  GPU  RAM (GB)  Storage (GB)  Release Year  \\\n",
       "0           iQOO 13       86   21  1.634892      1.517199          2025   \n",
       "1  Red Magic 10 Pro       86   21  0.552972     -0.028102          2025   \n",
       "2       Mi 15 Ultra       86   21  1.634892      1.517199          2025   \n",
       "3     vivo X200 Pro       40   34  0.552972     -0.028102          2025   \n",
       "4             Mi 15       86   21  0.552972      1.517199          2025   \n",
       "\n",
       "   CPU Score  GPU Score  MEM Score  UX Score  Total Score  \n",
       "0   0.689647   1.887714   0.228625 -0.222251      2695709  \n",
       "1   0.749466   1.942950   0.076843 -0.519748      2651204  \n",
       "2   0.333135   1.048537   0.055289 -0.281219      2477963  \n",
       "3   0.643398   1.348322  -0.723302 -0.354226      2476733  \n",
       "4   0.401330   1.055387  -0.216939 -0.696750      2395370  "
      ]
     },
     "execution_count": 30,
     "metadata": {},
     "output_type": "execute_result"
    }
   ],
   "source": [
    "df.head()"
   ]
  },
  {
   "cell_type": "markdown",
   "id": "9d7068f5-7b14-43dd-8971-ce51b05fa3ce",
   "metadata": {},
   "source": [
    "## Splitting the Dataset"
   ]
  },
  {
   "cell_type": "code",
   "execution_count": 31,
   "id": "844e31df-6613-4831-8db5-aab3ee4ef9cc",
   "metadata": {},
   "outputs": [],
   "source": [
    "from sklearn.model_selection import train_test_split"
   ]
  },
  {
   "cell_type": "code",
   "execution_count": 32,
   "id": "8a2739d2-4b23-48f2-a5ca-20829724dc26",
   "metadata": {},
   "outputs": [],
   "source": [
    "x = df.drop(columns=['Total Score', 'Phone Name'])\n",
    "y = df['Total Score']"
   ]
  },
  {
   "cell_type": "code",
   "execution_count": 33,
   "id": "5b5b6311-3e75-4567-9a94-3956062407f5",
   "metadata": {},
   "outputs": [],
   "source": [
    "x_train, x_test, y_train, y_test = train_test_split(x, y, test_size=0.2, random_state=42)"
   ]
  },
  {
   "cell_type": "code",
   "execution_count": 34,
   "id": "04392a30-facc-41df-aeb7-ce6209f4bae4",
   "metadata": {},
   "outputs": [
    {
     "name": "stdout",
     "output_type": "stream",
     "text": [
      "Train set size: (522, 9)\n",
      "Test set size: (131, 9)\n"
     ]
    }
   ],
   "source": [
    "print(\"Train set size:\", x_train.shape)\n",
    "print(\"Test set size:\", x_test.shape)"
   ]
  },
  {
   "cell_type": "markdown",
   "id": "f93409d7-19dd-49d3-afdf-3cf97749ad01",
   "metadata": {},
   "source": [
    "## Model Building"
   ]
  },
  {
   "cell_type": "code",
   "execution_count": 36,
   "id": "9b9e9094-6fed-48c9-b8b1-782ea3d5938d",
   "metadata": {},
   "outputs": [],
   "source": [
    "from sklearn.linear_model import LinearRegression\n",
    "model = LinearRegression()"
   ]
  },
  {
   "cell_type": "code",
   "execution_count": 37,
   "id": "1cbb0f41-cf4a-4bcf-b282-97a1486bb444",
   "metadata": {},
   "outputs": [
    {
     "data": {
      "text/html": [
       "<style>#sk-container-id-1 {\n",
       "  /* Definition of color scheme common for light and dark mode */\n",
       "  --sklearn-color-text: black;\n",
       "  --sklearn-color-line: gray;\n",
       "  /* Definition of color scheme for unfitted estimators */\n",
       "  --sklearn-color-unfitted-level-0: #fff5e6;\n",
       "  --sklearn-color-unfitted-level-1: #f6e4d2;\n",
       "  --sklearn-color-unfitted-level-2: #ffe0b3;\n",
       "  --sklearn-color-unfitted-level-3: chocolate;\n",
       "  /* Definition of color scheme for fitted estimators */\n",
       "  --sklearn-color-fitted-level-0: #f0f8ff;\n",
       "  --sklearn-color-fitted-level-1: #d4ebff;\n",
       "  --sklearn-color-fitted-level-2: #b3dbfd;\n",
       "  --sklearn-color-fitted-level-3: cornflowerblue;\n",
       "\n",
       "  /* Specific color for light theme */\n",
       "  --sklearn-color-text-on-default-background: var(--sg-text-color, var(--theme-code-foreground, var(--jp-content-font-color1, black)));\n",
       "  --sklearn-color-background: var(--sg-background-color, var(--theme-background, var(--jp-layout-color0, white)));\n",
       "  --sklearn-color-border-box: var(--sg-text-color, var(--theme-code-foreground, var(--jp-content-font-color1, black)));\n",
       "  --sklearn-color-icon: #696969;\n",
       "\n",
       "  @media (prefers-color-scheme: dark) {\n",
       "    /* Redefinition of color scheme for dark theme */\n",
       "    --sklearn-color-text-on-default-background: var(--sg-text-color, var(--theme-code-foreground, var(--jp-content-font-color1, white)));\n",
       "    --sklearn-color-background: var(--sg-background-color, var(--theme-background, var(--jp-layout-color0, #111)));\n",
       "    --sklearn-color-border-box: var(--sg-text-color, var(--theme-code-foreground, var(--jp-content-font-color1, white)));\n",
       "    --sklearn-color-icon: #878787;\n",
       "  }\n",
       "}\n",
       "\n",
       "#sk-container-id-1 {\n",
       "  color: var(--sklearn-color-text);\n",
       "}\n",
       "\n",
       "#sk-container-id-1 pre {\n",
       "  padding: 0;\n",
       "}\n",
       "\n",
       "#sk-container-id-1 input.sk-hidden--visually {\n",
       "  border: 0;\n",
       "  clip: rect(1px 1px 1px 1px);\n",
       "  clip: rect(1px, 1px, 1px, 1px);\n",
       "  height: 1px;\n",
       "  margin: -1px;\n",
       "  overflow: hidden;\n",
       "  padding: 0;\n",
       "  position: absolute;\n",
       "  width: 1px;\n",
       "}\n",
       "\n",
       "#sk-container-id-1 div.sk-dashed-wrapped {\n",
       "  border: 1px dashed var(--sklearn-color-line);\n",
       "  margin: 0 0.4em 0.5em 0.4em;\n",
       "  box-sizing: border-box;\n",
       "  padding-bottom: 0.4em;\n",
       "  background-color: var(--sklearn-color-background);\n",
       "}\n",
       "\n",
       "#sk-container-id-1 div.sk-container {\n",
       "  /* jupyter's `normalize.less` sets `[hidden] { display: none; }`\n",
       "     but bootstrap.min.css set `[hidden] { display: none !important; }`\n",
       "     so we also need the `!important` here to be able to override the\n",
       "     default hidden behavior on the sphinx rendered scikit-learn.org.\n",
       "     See: https://github.com/scikit-learn/scikit-learn/issues/21755 */\n",
       "  display: inline-block !important;\n",
       "  position: relative;\n",
       "}\n",
       "\n",
       "#sk-container-id-1 div.sk-text-repr-fallback {\n",
       "  display: none;\n",
       "}\n",
       "\n",
       "div.sk-parallel-item,\n",
       "div.sk-serial,\n",
       "div.sk-item {\n",
       "  /* draw centered vertical line to link estimators */\n",
       "  background-image: linear-gradient(var(--sklearn-color-text-on-default-background), var(--sklearn-color-text-on-default-background));\n",
       "  background-size: 2px 100%;\n",
       "  background-repeat: no-repeat;\n",
       "  background-position: center center;\n",
       "}\n",
       "\n",
       "/* Parallel-specific style estimator block */\n",
       "\n",
       "#sk-container-id-1 div.sk-parallel-item::after {\n",
       "  content: \"\";\n",
       "  width: 100%;\n",
       "  border-bottom: 2px solid var(--sklearn-color-text-on-default-background);\n",
       "  flex-grow: 1;\n",
       "}\n",
       "\n",
       "#sk-container-id-1 div.sk-parallel {\n",
       "  display: flex;\n",
       "  align-items: stretch;\n",
       "  justify-content: center;\n",
       "  background-color: var(--sklearn-color-background);\n",
       "  position: relative;\n",
       "}\n",
       "\n",
       "#sk-container-id-1 div.sk-parallel-item {\n",
       "  display: flex;\n",
       "  flex-direction: column;\n",
       "}\n",
       "\n",
       "#sk-container-id-1 div.sk-parallel-item:first-child::after {\n",
       "  align-self: flex-end;\n",
       "  width: 50%;\n",
       "}\n",
       "\n",
       "#sk-container-id-1 div.sk-parallel-item:last-child::after {\n",
       "  align-self: flex-start;\n",
       "  width: 50%;\n",
       "}\n",
       "\n",
       "#sk-container-id-1 div.sk-parallel-item:only-child::after {\n",
       "  width: 0;\n",
       "}\n",
       "\n",
       "/* Serial-specific style estimator block */\n",
       "\n",
       "#sk-container-id-1 div.sk-serial {\n",
       "  display: flex;\n",
       "  flex-direction: column;\n",
       "  align-items: center;\n",
       "  background-color: var(--sklearn-color-background);\n",
       "  padding-right: 1em;\n",
       "  padding-left: 1em;\n",
       "}\n",
       "\n",
       "\n",
       "/* Toggleable style: style used for estimator/Pipeline/ColumnTransformer box that is\n",
       "clickable and can be expanded/collapsed.\n",
       "- Pipeline and ColumnTransformer use this feature and define the default style\n",
       "- Estimators will overwrite some part of the style using the `sk-estimator` class\n",
       "*/\n",
       "\n",
       "/* Pipeline and ColumnTransformer style (default) */\n",
       "\n",
       "#sk-container-id-1 div.sk-toggleable {\n",
       "  /* Default theme specific background. It is overwritten whether we have a\n",
       "  specific estimator or a Pipeline/ColumnTransformer */\n",
       "  background-color: var(--sklearn-color-background);\n",
       "}\n",
       "\n",
       "/* Toggleable label */\n",
       "#sk-container-id-1 label.sk-toggleable__label {\n",
       "  cursor: pointer;\n",
       "  display: block;\n",
       "  width: 100%;\n",
       "  margin-bottom: 0;\n",
       "  padding: 0.5em;\n",
       "  box-sizing: border-box;\n",
       "  text-align: center;\n",
       "}\n",
       "\n",
       "#sk-container-id-1 label.sk-toggleable__label-arrow:before {\n",
       "  /* Arrow on the left of the label */\n",
       "  content: \"▸\";\n",
       "  float: left;\n",
       "  margin-right: 0.25em;\n",
       "  color: var(--sklearn-color-icon);\n",
       "}\n",
       "\n",
       "#sk-container-id-1 label.sk-toggleable__label-arrow:hover:before {\n",
       "  color: var(--sklearn-color-text);\n",
       "}\n",
       "\n",
       "/* Toggleable content - dropdown */\n",
       "\n",
       "#sk-container-id-1 div.sk-toggleable__content {\n",
       "  max-height: 0;\n",
       "  max-width: 0;\n",
       "  overflow: hidden;\n",
       "  text-align: left;\n",
       "  /* unfitted */\n",
       "  background-color: var(--sklearn-color-unfitted-level-0);\n",
       "}\n",
       "\n",
       "#sk-container-id-1 div.sk-toggleable__content.fitted {\n",
       "  /* fitted */\n",
       "  background-color: var(--sklearn-color-fitted-level-0);\n",
       "}\n",
       "\n",
       "#sk-container-id-1 div.sk-toggleable__content pre {\n",
       "  margin: 0.2em;\n",
       "  border-radius: 0.25em;\n",
       "  color: var(--sklearn-color-text);\n",
       "  /* unfitted */\n",
       "  background-color: var(--sklearn-color-unfitted-level-0);\n",
       "}\n",
       "\n",
       "#sk-container-id-1 div.sk-toggleable__content.fitted pre {\n",
       "  /* unfitted */\n",
       "  background-color: var(--sklearn-color-fitted-level-0);\n",
       "}\n",
       "\n",
       "#sk-container-id-1 input.sk-toggleable__control:checked~div.sk-toggleable__content {\n",
       "  /* Expand drop-down */\n",
       "  max-height: 200px;\n",
       "  max-width: 100%;\n",
       "  overflow: auto;\n",
       "}\n",
       "\n",
       "#sk-container-id-1 input.sk-toggleable__control:checked~label.sk-toggleable__label-arrow:before {\n",
       "  content: \"▾\";\n",
       "}\n",
       "\n",
       "/* Pipeline/ColumnTransformer-specific style */\n",
       "\n",
       "#sk-container-id-1 div.sk-label input.sk-toggleable__control:checked~label.sk-toggleable__label {\n",
       "  color: var(--sklearn-color-text);\n",
       "  background-color: var(--sklearn-color-unfitted-level-2);\n",
       "}\n",
       "\n",
       "#sk-container-id-1 div.sk-label.fitted input.sk-toggleable__control:checked~label.sk-toggleable__label {\n",
       "  background-color: var(--sklearn-color-fitted-level-2);\n",
       "}\n",
       "\n",
       "/* Estimator-specific style */\n",
       "\n",
       "/* Colorize estimator box */\n",
       "#sk-container-id-1 div.sk-estimator input.sk-toggleable__control:checked~label.sk-toggleable__label {\n",
       "  /* unfitted */\n",
       "  background-color: var(--sklearn-color-unfitted-level-2);\n",
       "}\n",
       "\n",
       "#sk-container-id-1 div.sk-estimator.fitted input.sk-toggleable__control:checked~label.sk-toggleable__label {\n",
       "  /* fitted */\n",
       "  background-color: var(--sklearn-color-fitted-level-2);\n",
       "}\n",
       "\n",
       "#sk-container-id-1 div.sk-label label.sk-toggleable__label,\n",
       "#sk-container-id-1 div.sk-label label {\n",
       "  /* The background is the default theme color */\n",
       "  color: var(--sklearn-color-text-on-default-background);\n",
       "}\n",
       "\n",
       "/* On hover, darken the color of the background */\n",
       "#sk-container-id-1 div.sk-label:hover label.sk-toggleable__label {\n",
       "  color: var(--sklearn-color-text);\n",
       "  background-color: var(--sklearn-color-unfitted-level-2);\n",
       "}\n",
       "\n",
       "/* Label box, darken color on hover, fitted */\n",
       "#sk-container-id-1 div.sk-label.fitted:hover label.sk-toggleable__label.fitted {\n",
       "  color: var(--sklearn-color-text);\n",
       "  background-color: var(--sklearn-color-fitted-level-2);\n",
       "}\n",
       "\n",
       "/* Estimator label */\n",
       "\n",
       "#sk-container-id-1 div.sk-label label {\n",
       "  font-family: monospace;\n",
       "  font-weight: bold;\n",
       "  display: inline-block;\n",
       "  line-height: 1.2em;\n",
       "}\n",
       "\n",
       "#sk-container-id-1 div.sk-label-container {\n",
       "  text-align: center;\n",
       "}\n",
       "\n",
       "/* Estimator-specific */\n",
       "#sk-container-id-1 div.sk-estimator {\n",
       "  font-family: monospace;\n",
       "  border: 1px dotted var(--sklearn-color-border-box);\n",
       "  border-radius: 0.25em;\n",
       "  box-sizing: border-box;\n",
       "  margin-bottom: 0.5em;\n",
       "  /* unfitted */\n",
       "  background-color: var(--sklearn-color-unfitted-level-0);\n",
       "}\n",
       "\n",
       "#sk-container-id-1 div.sk-estimator.fitted {\n",
       "  /* fitted */\n",
       "  background-color: var(--sklearn-color-fitted-level-0);\n",
       "}\n",
       "\n",
       "/* on hover */\n",
       "#sk-container-id-1 div.sk-estimator:hover {\n",
       "  /* unfitted */\n",
       "  background-color: var(--sklearn-color-unfitted-level-2);\n",
       "}\n",
       "\n",
       "#sk-container-id-1 div.sk-estimator.fitted:hover {\n",
       "  /* fitted */\n",
       "  background-color: var(--sklearn-color-fitted-level-2);\n",
       "}\n",
       "\n",
       "/* Specification for estimator info (e.g. \"i\" and \"?\") */\n",
       "\n",
       "/* Common style for \"i\" and \"?\" */\n",
       "\n",
       ".sk-estimator-doc-link,\n",
       "a:link.sk-estimator-doc-link,\n",
       "a:visited.sk-estimator-doc-link {\n",
       "  float: right;\n",
       "  font-size: smaller;\n",
       "  line-height: 1em;\n",
       "  font-family: monospace;\n",
       "  background-color: var(--sklearn-color-background);\n",
       "  border-radius: 1em;\n",
       "  height: 1em;\n",
       "  width: 1em;\n",
       "  text-decoration: none !important;\n",
       "  margin-left: 1ex;\n",
       "  /* unfitted */\n",
       "  border: var(--sklearn-color-unfitted-level-1) 1pt solid;\n",
       "  color: var(--sklearn-color-unfitted-level-1);\n",
       "}\n",
       "\n",
       ".sk-estimator-doc-link.fitted,\n",
       "a:link.sk-estimator-doc-link.fitted,\n",
       "a:visited.sk-estimator-doc-link.fitted {\n",
       "  /* fitted */\n",
       "  border: var(--sklearn-color-fitted-level-1) 1pt solid;\n",
       "  color: var(--sklearn-color-fitted-level-1);\n",
       "}\n",
       "\n",
       "/* On hover */\n",
       "div.sk-estimator:hover .sk-estimator-doc-link:hover,\n",
       ".sk-estimator-doc-link:hover,\n",
       "div.sk-label-container:hover .sk-estimator-doc-link:hover,\n",
       ".sk-estimator-doc-link:hover {\n",
       "  /* unfitted */\n",
       "  background-color: var(--sklearn-color-unfitted-level-3);\n",
       "  color: var(--sklearn-color-background);\n",
       "  text-decoration: none;\n",
       "}\n",
       "\n",
       "div.sk-estimator.fitted:hover .sk-estimator-doc-link.fitted:hover,\n",
       ".sk-estimator-doc-link.fitted:hover,\n",
       "div.sk-label-container:hover .sk-estimator-doc-link.fitted:hover,\n",
       ".sk-estimator-doc-link.fitted:hover {\n",
       "  /* fitted */\n",
       "  background-color: var(--sklearn-color-fitted-level-3);\n",
       "  color: var(--sklearn-color-background);\n",
       "  text-decoration: none;\n",
       "}\n",
       "\n",
       "/* Span, style for the box shown on hovering the info icon */\n",
       ".sk-estimator-doc-link span {\n",
       "  display: none;\n",
       "  z-index: 9999;\n",
       "  position: relative;\n",
       "  font-weight: normal;\n",
       "  right: .2ex;\n",
       "  padding: .5ex;\n",
       "  margin: .5ex;\n",
       "  width: min-content;\n",
       "  min-width: 20ex;\n",
       "  max-width: 50ex;\n",
       "  color: var(--sklearn-color-text);\n",
       "  box-shadow: 2pt 2pt 4pt #999;\n",
       "  /* unfitted */\n",
       "  background: var(--sklearn-color-unfitted-level-0);\n",
       "  border: .5pt solid var(--sklearn-color-unfitted-level-3);\n",
       "}\n",
       "\n",
       ".sk-estimator-doc-link.fitted span {\n",
       "  /* fitted */\n",
       "  background: var(--sklearn-color-fitted-level-0);\n",
       "  border: var(--sklearn-color-fitted-level-3);\n",
       "}\n",
       "\n",
       ".sk-estimator-doc-link:hover span {\n",
       "  display: block;\n",
       "}\n",
       "\n",
       "/* \"?\"-specific style due to the `<a>` HTML tag */\n",
       "\n",
       "#sk-container-id-1 a.estimator_doc_link {\n",
       "  float: right;\n",
       "  font-size: 1rem;\n",
       "  line-height: 1em;\n",
       "  font-family: monospace;\n",
       "  background-color: var(--sklearn-color-background);\n",
       "  border-radius: 1rem;\n",
       "  height: 1rem;\n",
       "  width: 1rem;\n",
       "  text-decoration: none;\n",
       "  /* unfitted */\n",
       "  color: var(--sklearn-color-unfitted-level-1);\n",
       "  border: var(--sklearn-color-unfitted-level-1) 1pt solid;\n",
       "}\n",
       "\n",
       "#sk-container-id-1 a.estimator_doc_link.fitted {\n",
       "  /* fitted */\n",
       "  border: var(--sklearn-color-fitted-level-1) 1pt solid;\n",
       "  color: var(--sklearn-color-fitted-level-1);\n",
       "}\n",
       "\n",
       "/* On hover */\n",
       "#sk-container-id-1 a.estimator_doc_link:hover {\n",
       "  /* unfitted */\n",
       "  background-color: var(--sklearn-color-unfitted-level-3);\n",
       "  color: var(--sklearn-color-background);\n",
       "  text-decoration: none;\n",
       "}\n",
       "\n",
       "#sk-container-id-1 a.estimator_doc_link.fitted:hover {\n",
       "  /* fitted */\n",
       "  background-color: var(--sklearn-color-fitted-level-3);\n",
       "}\n",
       "</style><div id=\"sk-container-id-1\" class=\"sk-top-container\"><div class=\"sk-text-repr-fallback\"><pre>LinearRegression()</pre><b>In a Jupyter environment, please rerun this cell to show the HTML representation or trust the notebook. <br />On GitHub, the HTML representation is unable to render, please try loading this page with nbviewer.org.</b></div><div class=\"sk-container\" hidden><div class=\"sk-item\"><div class=\"sk-estimator fitted sk-toggleable\"><input class=\"sk-toggleable__control sk-hidden--visually\" id=\"sk-estimator-id-1\" type=\"checkbox\" checked><label for=\"sk-estimator-id-1\" class=\"sk-toggleable__label fitted sk-toggleable__label-arrow fitted\">&nbsp;&nbsp;LinearRegression<a class=\"sk-estimator-doc-link fitted\" rel=\"noreferrer\" target=\"_blank\" href=\"https://scikit-learn.org/1.5/modules/generated/sklearn.linear_model.LinearRegression.html\">?<span>Documentation for LinearRegression</span></a><span class=\"sk-estimator-doc-link fitted\">i<span>Fitted</span></span></label><div class=\"sk-toggleable__content fitted\"><pre>LinearRegression()</pre></div> </div></div></div></div>"
      ],
      "text/plain": [
       "LinearRegression()"
      ]
     },
     "execution_count": 37,
     "metadata": {},
     "output_type": "execute_result"
    }
   ],
   "source": [
    "model.fit(x_train, y_train)"
   ]
  },
  {
   "cell_type": "markdown",
   "id": "732ff57a-e1dc-42f2-a750-95d3f1266107",
   "metadata": {},
   "source": [
    "## Model Evaluation"
   ]
  },
  {
   "cell_type": "code",
   "execution_count": 40,
   "id": "da5e9096-db8f-4278-97b7-b5706276c762",
   "metadata": {},
   "outputs": [],
   "source": [
    "from sklearn.metrics import mean_absolute_error, mean_squared_error, r2_score"
   ]
  },
  {
   "cell_type": "code",
   "execution_count": 41,
   "id": "b5802113-41cf-4f28-ad7a-b5027437ef6e",
   "metadata": {},
   "outputs": [],
   "source": [
    "y_pred = model.predict(x_test)"
   ]
  },
  {
   "cell_type": "code",
   "execution_count": 42,
   "id": "9b3ccec8-ce27-472c-b981-fd050f0fc7eb",
   "metadata": {},
   "outputs": [],
   "source": [
    "mae = mean_absolute_error(y_test, y_pred)\n",
    "mse = mean_squared_error(y_test, y_pred)\n",
    "r2 = r2_score(y_test, y_pred)"
   ]
  },
  {
   "cell_type": "code",
   "execution_count": 43,
   "id": "f41eefc5-366b-42c5-9357-982962024cec",
   "metadata": {},
   "outputs": [
    {
     "name": "stdout",
     "output_type": "stream",
     "text": [
      "MAE: 92437.18044555289\n",
      "MSE: 17768766613.30615\n",
      "R²: 0.9153428475084918\n"
     ]
    }
   ],
   "source": [
    "print(f\"MAE: {mae}\")\n",
    "print(f\"MSE: {mse}\")\n",
    "print(f\"R²: {r2}\")"
   ]
  },
  {
   "cell_type": "code",
   "execution_count": 44,
   "id": "82735875-8ef7-4c01-a41b-d33dad1d9cbd",
   "metadata": {},
   "outputs": [
    {
     "data": {
      "image/png": "[encoded data removed]",
      "text/plain": [
       "<Figure size 640x480 with 1 Axes>"
      ]
     },
     "metadata": {},
     "output_type": "display_data"
    }
   ],
   "source": [
    "plt.scatter(y_test, y_pred)\n",
    "plt.xlabel(\"True Values\")\n",
    "plt.ylabel(\"Predictions\")\n",
    "plt.title(\"True Values vs Predicted Values\")\n",
    "plt.show()"
   ]
  },
  {
   "cell_type": "code",
   "execution_count": 55,
   "id": "c3ca8942-7aaa-4cf1-9ceb-2077f85b3bcb",
   "metadata": {},
   "outputs": [
    {
     "data": {
      "image/png": "[encoded data removed]",
      "text/plain": [
       "<Figure size 640x480 with 1 Axes>"
      ]
     },
     "metadata": {},
     "output_type": "display_data"
    }
   ],
   "source": [
    "residuals = y_test - y_pred\n",
    "plt.scatter(y_pred, residuals)\n",
    "plt.axhline(y=0, color='r', linestyle='--')\n",
    "plt.xlabel('Predicted Values')\n",
    "plt.ylabel('Residuals')\n",
    "plt.title('Residuals vs Predicted')\n",
    "plt.show()"
   ]
  },
  {
   "cell_type": "markdown",
   "id": "d1780038-2100-4b1f-abe6-36c91ee8a315",
   "metadata": {},
   "source": [
    "## Cross-Validation"
   ]
  },
  {
   "cell_type": "code",
   "execution_count": 48,
   "id": "3cdc04b8-37ca-41b0-82b9-73b84b6f5575",
   "metadata": {},
   "outputs": [
    {
     "name": "stdout",
     "output_type": "stream",
     "text": [
      "Cross-validation MSE scores: [-4.76993459e+10 -6.31156941e+09 -4.90262498e+10 -6.35168558e+09\n",
      " -7.17677256e+09]\n"
     ]
    }
   ],
   "source": [
    "from sklearn.model_selection import cross_val_score\n",
    "cross_val_scores = cross_val_score(model, , y, cv=5, scoring='neg_mean_squared_error')\n",
    "print(f\"Cross-validation MSE scores: {cross_val_scores}\")"
   ]
  },
  {
   "cell_type": "code",
   "execution_count": 57,
   "id": "2f17b108-92f2-4dcb-a00b-0b7463d627b0",
   "metadata": {},
   "outputs": [],
   "source": [
    "## Feature Importance (Model Coefficients)"
   ]
  },
  {
   "cell_type": "code",
   "execution_count": 58,
   "id": "07b33ed5-9114-4db3-b685-2fef4cb01512",
   "metadata": {},
   "outputs": [
    {
     "name": "stdout",
     "output_type": "stream",
     "text": [
      "Chipset: 175.52700977748117\n",
      "GPU: -431.2776167034717\n",
      "RAM (GB): 8100.009953635273\n",
      "Storage (GB): -3394.8854714328027\n",
      "Release Year: 30127.846491974717\n",
      "CPU Score: 148818.22563663495\n",
      "GPU Score: 101192.85837538818\n",
      "MEM Score: -195252.16729824358\n",
      "UX Score: 398307.1599482298\n"
     ]
    }
   ],
   "source": [
    "feature_names = x.columns\n",
    "for feature, coef in zip(feature_names, model.coef_):\n",
    "    print(f\"{feature}: {coef}\")"
   ]
  },
  {
   "cell_type": "code",
   "execution_count": 52,
   "id": "38a14715-c08e-4929-8448-91ca401adcbd",
   "metadata": {},
   "outputs": [
    {
     "data": {
      "text/plain": [
       "['mobile_score_predictor.pkl']"
      ]
     },
     "execution_count": 52,
     "metadata": {},
     "output_type": "execute_result"
    }
   ],
   "source": [
    "import joblib\n",
    "joblib.dump(model, 'mobile_score_predictor.pkl')"
   ]
  },
  {
   "cell_type": "code",
   "execution_count": 53,
   "id": "c3bab5e7-d8a3-4daf-a8cb-edf0a01cbe88",
   "metadata": {},
   "outputs": [
    {
     "data": {
      "text/plain": [
       "['scaler.pkl']"
      ]
     },
     "execution_count": 53,
     "metadata": {},
     "output_type": "execute_result"
    }
   ],
   "source": [
    "joblib.dump(label_encoder, 'chipset_encoder.pkl')\n",
    "joblib.dump(scaler, 'scaler.pkl')"
   ]
  },
  {
   "cell_type": "markdown",
   "id": "6c379de7-0a26-463a-b675-66b0cc631188",
   "metadata": {},
   "source": [
    "## Conclusion\n",
    "\n",
    "- The Linear Regression model achieved an R² score of approximately **91%**, indicating [quality].\n",
    "- The most important features influencing the benchmark score were **CPU Score**, **GPU Score**, etc.\n",
    "- The model performs reasonably well for a baseline; however, more complex models (Random Forest, XGBoost) could be tested in the future for better performance.\n",
    "\n",
    "### Future Improvements\n",
    "- Try ensemble models\n",
    "- Add more features like battery, screen size\n",
    "- Deploy as a web service using Streamlit or Flask\n"
   ]
  },
  {
   "cell_type": "code",
   "execution_count": null,
   "id": "e1ab5c1c-3d51-4f3e-acf9-3ee6cbd25aa2",
   "metadata": {},
   "outputs": [],
   "source": []
  }
 ],
 "metadata": {
  "kernelspec": {
   "display_name": "Python 3 (ipykernel)",
   "language": "python",
   "name": "python3"
  },
  "language_info": {
   "codemirror_mode": {
    "name": "ipython",
    "version": 3
   },
   "file_extension": ".py",
   "mimetype": "text/x-python",
   "name": "python",
   "nbconvert_exporter": "python",
   "pygments_lexer": "ipython3",
   "version": "3.12.5"
  }
 },
 "nbformat": 4,
 "nbformat_minor": 5
}
